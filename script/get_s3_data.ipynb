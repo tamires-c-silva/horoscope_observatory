!pip install boto3
!pip install awswrangler

import boto3 
import awswrangler as wr
import os

my_session = boto3.Session(aws_access_key_id="",
                           aws_secret_access_key="",
                           region_name="us-east-2")

client = boto3.client('s3',
                      aws_access_key_id="",
                      aws_secret_access_key="",
                      region_name="us-east-2")
resource = boto3.resource('s3',
                         aws_access_key_id="",
                      aws_secret_access_key="",
                      region_name="us-east-2")

bucket_content = resource.Bucket("data-horoscope")

for s3_object in bucket_content.objects.all():
    path, filename = os.path.split(s3_object.key)
    bucket_content.download_file(s3_object.key, filename) 